{
 "cells": [
  {
   "cell_type": "code",
   "execution_count": 2,
   "id": "e124e56c",
   "metadata": {},
   "outputs": [],
   "source": [
    "import numpy as np"
   ]
  },
  {
   "cell_type": "markdown",
   "id": "aa79e8a7",
   "metadata": {},
   "source": [
    "## 1. Arrays"
   ]
  },
  {
   "cell_type": "markdown",
   "id": "81c4c845",
   "metadata": {},
   "source": [
    "### One Dimension"
   ]
  },
  {
   "cell_type": "code",
   "execution_count": 3,
   "id": "0eebbcd2",
   "metadata": {},
   "outputs": [
    {
     "data": {
      "text/plain": [
       "array([1, 4, 5, 7, 4, 2, 0])"
      ]
     },
     "execution_count": 3,
     "metadata": {},
     "output_type": "execute_result"
    }
   ],
   "source": [
    "np.array([1,4,5,7,4,2,0])"
   ]
  },
  {
   "cell_type": "markdown",
   "id": "ebecab47",
   "metadata": {},
   "source": [
    "### Two Dimesion"
   ]
  },
  {
   "cell_type": "code",
   "execution_count": 4,
   "id": "abc2fab4",
   "metadata": {},
   "outputs": [
    {
     "data": {
      "text/plain": [
       "array([1, 4, 5, 7, 4, 2, 0])"
      ]
     },
     "execution_count": 4,
     "metadata": {},
     "output_type": "execute_result"
    }
   ],
   "source": [
    "np.array([1,4,5,7,4,2,0])"
   ]
  },
  {
   "cell_type": "markdown",
   "id": "1f9968de",
   "metadata": {},
   "source": [
    "Addressing an Array"
   ]
  },
  {
   "cell_type": "code",
   "execution_count": 5,
   "id": "6d263ac4",
   "metadata": {},
   "outputs": [],
   "source": [
    "x = np.array([1,4,5,7,4,2,0])"
   ]
  },
  {
   "cell_type": "code",
   "execution_count": 6,
   "id": "5244d7bf",
   "metadata": {},
   "outputs": [
    {
     "data": {
      "text/plain": [
       "4"
      ]
     },
     "execution_count": 6,
     "metadata": {},
     "output_type": "execute_result"
    }
   ],
   "source": [
    "# second element\n",
    "x[1]  # index starts with 0"
   ]
  },
  {
   "cell_type": "code",
   "execution_count": 7,
   "id": "0e60fd0f",
   "metadata": {},
   "outputs": [
    {
     "data": {
      "text/plain": [
       "array([1, 4, 5, 7, 4])"
      ]
     },
     "execution_count": 7,
     "metadata": {},
     "output_type": "execute_result"
    }
   ],
   "source": [
    "# first five\n",
    "x[:5]"
   ]
  },
  {
   "cell_type": "code",
   "execution_count": 8,
   "id": "911ca752",
   "metadata": {},
   "outputs": [
    {
     "data": {
      "text/plain": [
       "array([4, 5, 7, 4])"
      ]
     },
     "execution_count": 8,
     "metadata": {},
     "output_type": "execute_result"
    }
   ],
   "source": [
    "# second to fifth  \n",
    "x[1:5]  # index starts with 0"
   ]
  },
  {
   "cell_type": "code",
   "execution_count": 9,
   "id": "028419a8",
   "metadata": {},
   "outputs": [
    {
     "data": {
      "text/plain": [
       "0"
      ]
     },
     "execution_count": 9,
     "metadata": {},
     "output_type": "execute_result"
    }
   ],
   "source": [
    "# Last  \n",
    "x[-1]"
   ]
  },
  {
   "cell_type": "code",
   "execution_count": 10,
   "id": "4b81f3c2",
   "metadata": {},
   "outputs": [
    {
     "data": {
      "text/plain": [
       "array([4, 2, 0])"
      ]
     },
     "execution_count": 10,
     "metadata": {},
     "output_type": "execute_result"
    }
   ],
   "source": [
    "# Last three\n",
    "x[-3:]"
   ]
  },
  {
   "cell_type": "code",
   "execution_count": 11,
   "id": "dc94cfeb",
   "metadata": {},
   "outputs": [
    {
     "data": {
      "text/plain": [
       "array([1, 4, 5, 7, 4])"
      ]
     },
     "execution_count": 11,
     "metadata": {},
     "output_type": "execute_result"
    }
   ],
   "source": [
    "# All but last two\n",
    "x[:-2]"
   ]
  },
  {
   "cell_type": "code",
   "execution_count": null,
   "id": "a5ee70bc",
   "metadata": {},
   "outputs": [],
   "source": []
  }
 ],
 "metadata": {
  "kernelspec": {
   "display_name": "Python 3 (ipykernel)",
   "language": "python",
   "name": "python3"
  },
  "language_info": {
   "codemirror_mode": {
    "name": "ipython",
    "version": 3
   },
   "file_extension": ".py",
   "mimetype": "text/x-python",
   "name": "python",
   "nbconvert_exporter": "python",
   "pygments_lexer": "ipython3",
   "version": "3.9.5"
  }
 },
 "nbformat": 4,
 "nbformat_minor": 5
}
